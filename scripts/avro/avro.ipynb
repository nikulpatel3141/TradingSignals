{
 "cells": [
  {
   "cell_type": "code",
   "execution_count": 23,
   "id": "865426c0-37fe-4000-8c21-b425977d8a7f",
   "metadata": {},
   "outputs": [
    {
     "name": "stdout",
     "output_type": "stream",
     "text": [
      "{'name': 'Alyssa', 'favorite_number': 256, 'favorite_color': None}\n",
      "{'name': 'Ben', 'favorite_number': 7, 'favorite_color': 'red'}\n"
     ]
    }
   ],
   "source": [
    "import avro.schema\n",
    "from avro.datafile import DataFileReader, DataFileWriter\n",
    "from avro.io import DatumReader, DatumWriter\n",
    "\n",
    "with open(\"user.avsc\", \"rb\") as f:\n",
    "    schema = avro.schema.parse(f.read())\n",
    "\n",
    "\n",
    "def write_records(filename, records):\n",
    "    with open(filename, \"wb\") as f:\n",
    "        writer = DataFileWriter(f, DatumWriter(), schema)\n",
    "        for record in records:\n",
    "            writer.append(record)\n",
    "        writer.close()\n",
    "    \n",
    "def read_records(filename):\n",
    "    with open(filename, \"rb\") as f: \n",
    "        reader = DataFileReader(f, DatumReader())\n",
    "    \n",
    "        for user in reader:\n",
    "            print(user)\n",
    "        reader.close()\n",
    "\n",
    "\n",
    "records = [\n",
    "    {\"name\": \"Alyssa\", \"favorite_number\": 256},\n",
    "    {\"name\": \"Ben\", \"favorite_number\": 7, \"favorite_color\": \"red\"},\n",
    "]\n",
    "\n",
    "write_records(\"users.avro\", records)\n",
    "read_records(\"users.avro\")\n"
   ]
  },
  {
   "cell_type": "code",
   "execution_count": 15,
   "id": "85284125-fb45-4c91-85b3-c1f7d82296a8",
   "metadata": {},
   "outputs": [],
   "source": [
    "# import polars as pl\n",
    "\n",
    "# pl.read_avro(\"users.avro\", columns=['name'])\n"
   ]
  },
  {
   "cell_type": "code",
   "execution_count": 32,
   "id": "74d0051c",
   "metadata": {},
   "outputs": [
    {
     "name": "stdout",
     "output_type": "stream",
     "text": [
      "{'ticker': 'AAPL US', 'ISIN': None, 'status': 'LISTED', 'price': {'open': 100.2, 'close': 100.4}}\n",
      "{'ticker': 'MSFT US', 'ISIN': 'ABC123123', 'status': 'OTC', 'price': {'open': 10.2, 'close': 300.22}}\n"
     ]
    }
   ],
   "source": [
    "with open(\"prices.avsc\", \"rb\") as f:\n",
    "    schema = avro.schema.parse(f.read())\n",
    "\n",
    "price_records = [\n",
    "    {\"ticker\": \"AAPL US\", \"ISIN\": None, \"status\": \"LISTED\", \"price\": {\"open\": 100.2, \"close\": 100.4}},\n",
    "    {\"ticker\": \"MSFT US\", \"ISIN\": \"ABC123123\", \"status\": \"OTC\", \"price\": {\"open\": 10.2, \"close\": 300.22}},\n",
    "]\n",
    "\n",
    "write_records(\"python_price.avro\", price_records)\n",
    "read_records(\"python_price.avro\")\n",
    "\n",
    "\n",
    "# with open(\"users.avro\", \"wb\") as f:\n",
    "#     writer = DataFileWriter(f, DatumWriter(), schema)\n",
    "\n",
    "#     writer.append({\"name\": \"Alyssa\", \"favorite_number\": 256})\n",
    "#     writer.append({\"name\": \"Ben\", \"favorite_number\": 7, \"favorite_color\": \"red\"})\n",
    "#     writer.close()\n",
    "\n",
    "# with open(\"users.avro\", \"rb\") as f: \n",
    "#     reader = DataFileReader(f, DatumReader())\n",
    "\n",
    "#     for user in reader:\n",
    "#         print(user)\n",
    "#     reader.close()\n"
   ]
  },
  {
   "cell_type": "code",
   "execution_count": 36,
   "id": "acaf32f5",
   "metadata": {},
   "outputs": [
    {
     "data": {
      "text/plain": [
       "Schema([('ticker', String),\n",
       "        ('ISIN', String),\n",
       "        ('status', Categorical),\n",
       "        ('price', Struct({'open': Float64, 'close': Float64}))])"
      ]
     },
     "execution_count": 36,
     "metadata": {},
     "output_type": "execute_result"
    }
   ],
   "source": [
    "import polars as pl\n",
    "\n",
    "pl.read_avro(\"python_price.avro\").schema"
   ]
  },
  {
   "cell_type": "code",
   "execution_count": 38,
   "id": "104cdeb8-0382-434d-90dd-148cc53001bd",
   "metadata": {},
   "outputs": [
    {
     "name": "stdout",
     "output_type": "stream",
     "text": [
      "{'ticker': 'javaTicker', 'ISIN': 'ABC123', 'status': 'OTC', 'price': {'open': 100.45, 'close': 200.67}}\n"
     ]
    }
   ],
   "source": [
    "read_records(\"java_price.avro\")"
   ]
  },
  {
   "cell_type": "code",
   "execution_count": null,
   "id": "0c3fcfa7-68da-493e-ad30-cda6982dad0e",
   "metadata": {},
   "outputs": [],
   "source": []
  },
  {
   "cell_type": "code",
   "execution_count": null,
   "id": "4826d4b3-4022-4df5-b6ff-6ac1ac097b69",
   "metadata": {},
   "outputs": [],
   "source": []
  }
 ],
 "metadata": {
  "kernelspec": {
   "display_name": "Python 3 (ipykernel)",
   "language": "python",
   "name": "python3"
  },
  "language_info": {
   "codemirror_mode": {
    "name": "ipython",
    "version": 3
   },
   "file_extension": ".py",
   "mimetype": "text/x-python",
   "name": "python",
   "nbconvert_exporter": "python",
   "pygments_lexer": "ipython3",
   "version": "3.10.12"
  }
 },
 "nbformat": 4,
 "nbformat_minor": 5
}
