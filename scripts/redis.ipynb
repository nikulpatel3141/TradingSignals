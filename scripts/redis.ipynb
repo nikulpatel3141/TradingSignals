{
 "cells": [
  {
   "cell_type": "code",
   "execution_count": 4,
   "id": "b8b16d63-ef69-4dcd-8291-93d3b1971775",
   "metadata": {},
   "outputs": [],
   "source": [
    "import redis "
   ]
  },
  {
   "cell_type": "code",
   "execution_count": 5,
   "id": "55f0dc46-d541-4a2b-bfc1-e988ea6e4aba",
   "metadata": {},
   "outputs": [],
   "source": [
    "r = redis.Redis(host='localhost', port=6379, decode_responses=True)"
   ]
  },
  {
   "cell_type": "code",
   "execution_count": 14,
   "id": "7b6a23c3-857f-46fa-832e-efdf16d995a6",
   "metadata": {},
   "outputs": [
    {
     "data": {
      "text/plain": [
       "True"
      ]
     },
     "execution_count": 14,
     "metadata": {},
     "output_type": "execute_result"
    }
   ],
   "source": [
    "import json\n",
    "\n",
    "r.set(\"key\", json.dumps([\"value\"]))"
   ]
  },
  {
   "cell_type": "code",
   "execution_count": 15,
   "id": "25bbc1b6-6bde-4b03-a033-7ffe9d6e81ce",
   "metadata": {},
   "outputs": [
    {
     "data": {
      "text/plain": [
       "'[\"value\"]'"
      ]
     },
     "execution_count": 15,
     "metadata": {},
     "output_type": "execute_result"
    }
   ],
   "source": [
    "r.get(\"key\")"
   ]
  },
  {
   "cell_type": "code",
   "execution_count": 17,
   "id": "ce8fa96b-456b-42d1-bd44-db8ecd8ea56f",
   "metadata": {},
   "outputs": [
    {
     "data": {
      "text/plain": [
       "2"
      ]
     },
     "execution_count": 17,
     "metadata": {},
     "output_type": "execute_result"
    }
   ],
   "source": [
    "r.hset(\"dictkey\", mapping={\"a\": 1, \"b\": 42})"
   ]
  },
  {
   "cell_type": "code",
   "execution_count": 22,
   "id": "8a4e1b5c-f5d7-436c-94bd-c3ac44f67091",
   "metadata": {},
   "outputs": [
    {
     "data": {
      "text/plain": [
       "{'a': '1', 'b': '42'}"
      ]
     },
     "execution_count": 22,
     "metadata": {},
     "output_type": "execute_result"
    }
   ],
   "source": [
    "r.hgetall(\"dictkey\")"
   ]
  },
  {
   "cell_type": "code",
   "execution_count": null,
   "id": "d3f41e89-445d-4778-a4b1-8850b670ccf0",
   "metadata": {},
   "outputs": [],
   "source": []
  },
  {
   "cell_type": "code",
   "execution_count": null,
   "id": "48385e79-57cb-479f-990e-7aced7762123",
   "metadata": {},
   "outputs": [],
   "source": []
  },
  {
   "cell_type": "code",
   "execution_count": null,
   "id": "4750f780-060d-4013-82a1-a26de7b528d8",
   "metadata": {},
   "outputs": [],
   "source": []
  }
 ],
 "metadata": {
  "kernelspec": {
   "display_name": "Python 3 (ipykernel)",
   "language": "python",
   "name": "python3"
  },
  "language_info": {
   "codemirror_mode": {
    "name": "ipython",
    "version": 3
   },
   "file_extension": ".py",
   "mimetype": "text/x-python",
   "name": "python",
   "nbconvert_exporter": "python",
   "pygments_lexer": "ipython3",
   "version": "3.13.7"
  }
 },
 "nbformat": 4,
 "nbformat_minor": 5
}
